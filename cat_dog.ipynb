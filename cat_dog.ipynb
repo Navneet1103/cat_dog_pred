{
 "cells": [
  {
   "cell_type": "code",
   "execution_count": null,
   "metadata": {},
   "outputs": [],
   "source": [
    "import pandas as pd \n",
    "import numpy as np \n",
    "from tensorflow.keras.layers import Flatten,Input,Dense,GlobalAveragePooling2D\n",
    "from tensorflow.keras.models import Sequential,Model\n",
    "from tensorflow.keras.applications.vgg19 import VGG19,preprocess_input\n",
    "from tensorflow.keras.wrappers.scikit_learn import KerasClassifier\n",
    "from sklearn.model_selection import RandomizedSearchCV\n",
    "from tensorflow.keras.callbacks import ModelCheckpoint\n",
    "from tensorflow.keras.preprocessing import image\n",
    "import os\n",
    "import cv2\n",
    "import matplotlib.pyplot as plt\n",
    "import random"
   ]
  },
  {
   "cell_type": "markdown",
   "metadata": {},
   "source": [
    "# Functions"
   ]
  },
  {
   "cell_type": "code",
   "execution_count": null,
   "metadata": {},
   "outputs": [],
   "source": [
    "def give_dataset(m):\n",
    "    data = []\n",
    "    if m=='train':\n",
    "            path = os.path.join('dataset','training_set')\n",
    "    elif m=='test':\n",
    "            path = os.path.join('dataset','test_set')\n",
    "    else:\n",
    "        print('String should be train ot test')\n",
    "    for f in os.listdir(path):\n",
    "        for im in os.listdir(os.path.join(path,f)):\n",
    "            image = cv2.imread(os.path.join(path,f,im),cv2.IMREAD_COLOR)\n",
    "            image = cv2.resize(image,(224,224))\n",
    "            if im[:3]=='cat':\n",
    "                data.append([image , 0])\n",
    "            if im[:3]=='dog':\n",
    "                data.append([image ,1])\n",
    "    random.shuffle(data)\n",
    "    return data\n"
   ]
  },
  {
   "cell_type": "code",
   "execution_count": null,
   "metadata": {},
   "outputs": [],
   "source": [
    "def give_splits(dataset):\n",
    "    x= []\n",
    "    y=[]\n",
    "    for d,t in dataset:\n",
    "        x.append(d)\n",
    "        y.append(t)\n",
    "    x= np.array(x).reshape(-1,224,224,3)\n",
    "    y = np.array(y)\n",
    "    return x,y"
   ]
  },
  {
   "cell_type": "code",
   "execution_count": null,
   "metadata": {
    "tags": []
   },
   "outputs": [],
   "source": [
    "train_data = give_dataset('train')"
   ]
  },
  {
   "cell_type": "code",
   "execution_count": null,
   "metadata": {},
   "outputs": [],
   "source": [
    "test_data = give_dataset('test')"
   ]
  },
  {
   "cell_type": "code",
   "execution_count": null,
   "metadata": {},
   "outputs": [],
   "source": [
    "x_train,y_train = give_splits(train_data)"
   ]
  },
  {
   "cell_type": "code",
   "execution_count": null,
   "metadata": {},
   "outputs": [],
   "source": [
    "x_test,y_test = give_splits(test_data)"
   ]
  },
  {
   "cell_type": "code",
   "execution_count": null,
   "metadata": {},
   "outputs": [],
   "source": [
    "np.save('dataset/x_train.npy',x_train)\n",
    "np.save('dataset/y_train.npy',y_train)\n",
    "np.save('dataset/x_test.npy',x_test)\n",
    "np.save('dataset/y_test.npy',y_test)"
   ]
  },
  {
   "cell_type": "code",
   "execution_count": null,
   "metadata": {},
   "outputs": [],
   "source": [
    "x_train = np.load(r'D:\\Data Analytics for Business\\Keras learning\\dataset\\x_train.npy',)\n",
    "y_train = np.load(r'D:\\Data Analytics for Business\\Keras learning\\dataset\\y_train.npy')\n",
    "x_test = np.load(r'D:\\Data Analytics for Business\\Keras learning\\dataset\\x_test.npy')\n",
    "y_test = np.load(r'D:\\Data Analytics for Business\\Keras learning\\dataset\\y_test.npy')"
   ]
  },
  {
   "cell_type": "code",
   "execution_count": null,
   "metadata": {},
   "outputs": [],
   "source": [
    "vgg = VGG19(weights='imagenet',include_top=False)\n",
    "for layer in vgg.layers:\n",
    "    layer.trainable=False"
   ]
  },
  {
   "cell_type": "code",
   "execution_count": null,
   "metadata": {},
   "outputs": [],
   "source": [
    "def give_model(optimizer='adam'):\n",
    "    x= vgg.output\n",
    "    x= GlobalAveragePooling2D()(x)\n",
    "    x = Dense(x_train.shape[0],activation='relu')(x)\n",
    "    out = Dense(1,activation='sigmoid')(x)\n",
    "    model = Model(inputs=vgg.input,outputs=out)\n",
    "    model.compile(optimizer=optimizer,loss='binary_crossentropy',metrics=['accuracy'])\n",
    "    return model"
   ]
  },
  {
   "cell_type": "markdown",
   "metadata": {},
   "source": [
    "# Model"
   ]
  },
  {
   "cell_type": "code",
   "execution_count": null,
   "metadata": {},
   "outputs": [],
   "source": []
  },
  {
   "cell_type": "code",
   "execution_count": null,
   "metadata": {},
   "outputs": [],
   "source": [
    "new_model = Model(inputs= model.input,outputs=out)"
   ]
  },
  {
   "cell_type": "code",
   "execution_count": null,
   "metadata": {},
   "outputs": [],
   "source": [
    "new_model.compile(optimizer='adam',loss='binary_crossentropy',metrics=['accuracy'])"
   ]
  },
  {
   "cell_type": "code",
   "execution_count": null,
   "metadata": {},
   "outputs": [],
   "source": [
    "hist = new_model.fit(x_train,y_train)"
   ]
  },
  {
   "cell_type": "code",
   "execution_count": null,
   "metadata": {},
   "outputs": [],
   "source": [
    "hist.history"
   ]
  },
  {
   "cell_type": "markdown",
   "metadata": {},
   "source": [
    "# USing Randomized search"
   ]
  },
  {
   "cell_type": "code",
   "execution_count": null,
   "metadata": {},
   "outputs": [],
   "source": [
    "knn = KerasClassifier(build_fn=give_model)"
   ]
  },
  {
   "cell_type": "code",
   "execution_count": null,
   "metadata": {},
   "outputs": [],
   "source": [
    "params = {'optimizer':['adam','sgd'],'batch_size':[16,32,64]}"
   ]
  },
  {
   "cell_type": "code",
   "execution_count": null,
   "metadata": {},
   "outputs": [],
   "source": [
    "cv = RandomizedSearchCV(knn,params)"
   ]
  },
  {
   "cell_type": "code",
   "execution_count": null,
   "metadata": {
    "tags": [
     "outputPrepend"
    ]
   },
   "outputs": [],
   "source": [
    "cv.fit(x_train,y_train)"
   ]
  },
  {
   "cell_type": "code",
   "execution_count": null,
   "metadata": {},
   "outputs": [],
   "source": [
    "cv.best_params_"
   ]
  },
  {
   "cell_type": "code",
   "execution_count": null,
   "metadata": {},
   "outputs": [],
   "source": [
    "use = give_model(optimizer='sgd')"
   ]
  },
  {
   "cell_type": "code",
   "execution_count": null,
   "metadata": {},
   "outputs": [],
   "source": [
    "chkpt = ModelCheckpoint('dataset/cat-dog.hdf5',monitor='val_loss',verbose=0)"
   ]
  },
  {
   "cell_type": "code",
   "execution_count": null,
   "metadata": {},
   "outputs": [],
   "source": [
    "hist = use.fit(x_train,y_train,validation_data=(x_test,y_test),callbacks=[chkpt],batch_size=16,epochs=12)"
   ]
  },
  {
   "cell_type": "code",
   "execution_count": null,
   "metadata": {},
   "outputs": [],
   "source": [
    "plt.plot(hist.history['val_accuracy'])\n",
    "plt.plot(hist.history['accuracy'])"
   ]
  },
  {
   "cell_type": "code",
   "execution_count": null,
   "metadata": {},
   "outputs": [],
   "source": [
    "plt.hist.history['val_accuracy']"
   ]
  },
  {
   "cell_type": "code",
   "execution_count": null,
   "metadata": {},
   "outputs": [],
   "source": [
    "def give_model_new(optimizer='adam',vgg=vgg):\n",
    "    x= vgg.output\n",
    "    x= GlobalAveragePooling2D()(x)\n",
    "    x = Dense(8000,activation='relu')(x)\n",
    "    out = Dense(1,activation='sigmoid')(x)\n",
    "    model = Model(inputs=vgg.input,outputs=out)\n",
    "    model.compile(optimizer=optimizer,loss='binary_crossentropy',metrics=['accuracy'])\n",
    "    return model\n",
    "\n",
    "def give_result():\n",
    "    # path = os.path.join('dataset\\static',filename)\n",
    "    im = image.load_img(r'D:\\Data Analytics for Business\\Keras learning\\dog vs cat\\dataset\\training_set\\cats\\cat.1.jpg')\n",
    "    im = image.smart_resize(im,(224,224))\n",
    "    im = im.reshape(-1,224,224,3)\n",
    "    model = give_model()\n",
    "    model.load_weights('D:\\Data Analytics for Business\\Keras learning\\dataset\\dataset\\cat-dog.hdf5')\n",
    "    print(model.predict(im))"
   ]
  },
  {
   "cell_type": "code",
   "execution_count": null,
   "metadata": {},
   "outputs": [],
   "source": [
    "mod = give_model_new()\n",
    "mod.summary()"
   ]
  },
  {
   "cell_type": "code",
   "execution_count": null,
   "metadata": {},
   "outputs": [],
   "source": [
    "mod.load_weights('D:\\Data Analytics for Business\\Keras learning\\dataset\\dataset\\cat-dog.hdf5')\n",
    "mod.summary()"
   ]
  },
  {
   "cell_type": "code",
   "execution_count": null,
   "metadata": {},
   "outputs": [],
   "source": [
    "np.argmax(mod.predict(im))"
   ]
  },
  {
   "cell_type": "code",
   "execution_count": null,
   "metadata": {},
   "outputs": [],
   "source": [
    "im = cv2.imread(r'D:\\Data Analytics for Business\\Keras learning\\dataset\\training_set\\dogs\\dog.23.jpg')\n",
    "im = cv2.resize(im,(224,224))\n",
    "im = im.reshape(-1,224,224,3)\n",
    "# im = image.img_to_array(im)"
   ]
  },
  {
   "cell_type": "code",
   "execution_count": null,
   "metadata": {},
   "outputs": [],
   "source": [
    "tim = im.reshape(-1,224,224,3)\n",
    "tim.shape"
   ]
  },
  {
   "cell_type": "code",
   "execution_count": null,
   "metadata": {},
   "outputs": [],
   "source": []
  }
 ],
 "metadata": {
  "interpreter": {
   "hash": "70eeece99edf9c6bc9f7c3070fd96f903c5d4a7abb3dc0dce1116ab3b071bfed"
  },
  "kernelspec": {
   "display_name": "Python 3.8.10 64-bit ('DAB200': conda)",
   "name": "python3"
  },
  "language_info": {
   "name": "python",
   "version": ""
  },
  "orig_nbformat": 4
 },
 "nbformat": 4,
 "nbformat_minor": 2
}